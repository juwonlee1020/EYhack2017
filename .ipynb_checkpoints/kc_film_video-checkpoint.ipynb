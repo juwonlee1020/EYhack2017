{
 "cells": [
  {
   "cell_type": "code",
   "execution_count": 1,
   "metadata": {
    "collapsed": true
   },
   "outputs": [],
   "source": [
    "#import statements\n",
    "import numpy as np\n",
    "import pandas as pd\n",
    "import seaborn as sns\n",
    "%matplotlib inline"
   ]
  },
  {
   "cell_type": "code",
   "execution_count": 2,
   "metadata": {
    "collapsed": true
   },
   "outputs": [],
   "source": [
    "#Load dataset\n",
    "kickstarter_data = pd.read_csv(\"Kickstarter_preprocessed.csv\")"
   ]
  },
  {
   "cell_type": "code",
   "execution_count": 6,
   "metadata": {
    "collapsed": false
   },
   "outputs": [
    {
     "data": {
      "text/html": [
       "<div>\n",
       "<table border=\"1\" class=\"dataframe\">\n",
       "  <thead>\n",
       "    <tr style=\"text-align: right;\">\n",
       "      <th></th>\n",
       "      <th>mainCategory</th>\n",
       "      <th>category</th>\n",
       "      <th>goal</th>\n",
       "      <th>duration</th>\n",
       "      <th>numPerks</th>\n",
       "      <th>medianPerk</th>\n",
       "      <th>estimatedDelivery</th>\n",
       "      <th>mainVideo</th>\n",
       "      <th>numSuccessfulCampaigns</th>\n",
       "      <th>facebookFriends</th>\n",
       "      <th>numCollaborators</th>\n",
       "      <th>totWordCount</th>\n",
       "      <th>numImages</th>\n",
       "      <th>success</th>\n",
       "    </tr>\n",
       "  </thead>\n",
       "  <tbody>\n",
       "    <tr>\n",
       "      <th>0</th>\n",
       "      <td>Film &amp; Video</td>\n",
       "      <td>Webseries</td>\n",
       "      <td>58367.10</td>\n",
       "      <td>29.958333</td>\n",
       "      <td>4</td>\n",
       "      <td>79.5</td>\n",
       "      <td>229.177083</td>\n",
       "      <td>1</td>\n",
       "      <td>0</td>\n",
       "      <td>737.0</td>\n",
       "      <td>0</td>\n",
       "      <td>253</td>\n",
       "      <td>0</td>\n",
       "      <td>0</td>\n",
       "    </tr>\n",
       "    <tr>\n",
       "      <th>1</th>\n",
       "      <td>Film &amp; Video</td>\n",
       "      <td>Documentary</td>\n",
       "      <td>6994.52</td>\n",
       "      <td>59.958333</td>\n",
       "      <td>11</td>\n",
       "      <td>39.0</td>\n",
       "      <td>254.523232</td>\n",
       "      <td>1</td>\n",
       "      <td>1</td>\n",
       "      <td>2480.0</td>\n",
       "      <td>0</td>\n",
       "      <td>1165</td>\n",
       "      <td>7</td>\n",
       "      <td>1</td>\n",
       "    </tr>\n",
       "    <tr>\n",
       "      <th>2</th>\n",
       "      <td>Publishing</td>\n",
       "      <td>Fiction</td>\n",
       "      <td>3000.00</td>\n",
       "      <td>30.000000</td>\n",
       "      <td>20</td>\n",
       "      <td>40.0</td>\n",
       "      <td>16.135417</td>\n",
       "      <td>1</td>\n",
       "      <td>4</td>\n",
       "      <td>461.0</td>\n",
       "      <td>0</td>\n",
       "      <td>1371</td>\n",
       "      <td>12</td>\n",
       "      <td>1</td>\n",
       "    </tr>\n",
       "    <tr>\n",
       "      <th>3</th>\n",
       "      <td>Design</td>\n",
       "      <td>Graphic Design</td>\n",
       "      <td>80000.00</td>\n",
       "      <td>30.368715</td>\n",
       "      <td>28</td>\n",
       "      <td>275.0</td>\n",
       "      <td>149.690476</td>\n",
       "      <td>1</td>\n",
       "      <td>2</td>\n",
       "      <td>574.5</td>\n",
       "      <td>0</td>\n",
       "      <td>1040</td>\n",
       "      <td>34</td>\n",
       "      <td>1</td>\n",
       "    </tr>\n",
       "    <tr>\n",
       "      <th>4</th>\n",
       "      <td>Publishing</td>\n",
       "      <td>Young Adult</td>\n",
       "      <td>10000.00</td>\n",
       "      <td>30.000000</td>\n",
       "      <td>6</td>\n",
       "      <td>17.5</td>\n",
       "      <td>5.513194</td>\n",
       "      <td>1</td>\n",
       "      <td>0</td>\n",
       "      <td>574.5</td>\n",
       "      <td>0</td>\n",
       "      <td>1641</td>\n",
       "      <td>0</td>\n",
       "      <td>0</td>\n",
       "    </tr>\n",
       "  </tbody>\n",
       "</table>\n",
       "</div>"
      ],
      "text/plain": [
       "   mainCategory        category      goal   duration  numPerks  medianPerk  \\\n",
       "0  Film & Video       Webseries  58367.10  29.958333         4        79.5   \n",
       "1  Film & Video     Documentary   6994.52  59.958333        11        39.0   \n",
       "2    Publishing         Fiction   3000.00  30.000000        20        40.0   \n",
       "3        Design  Graphic Design  80000.00  30.368715        28       275.0   \n",
       "4    Publishing     Young Adult  10000.00  30.000000         6        17.5   \n",
       "\n",
       "   estimatedDelivery  mainVideo  numSuccessfulCampaigns  facebookFriends  \\\n",
       "0         229.177083          1                       0            737.0   \n",
       "1         254.523232          1                       1           2480.0   \n",
       "2          16.135417          1                       4            461.0   \n",
       "3         149.690476          1                       2            574.5   \n",
       "4           5.513194          1                       0            574.5   \n",
       "\n",
       "   numCollaborators  totWordCount  numImages  success  \n",
       "0                 0           253          0        0  \n",
       "1                 0          1165          7        1  \n",
       "2                 0          1371         12        1  \n",
       "3                 0          1040         34        1  \n",
       "4                 0          1641          0        0  "
      ]
     },
     "execution_count": 6,
     "metadata": {},
     "output_type": "execute_result"
    }
   ],
   "source": [
    "#Filter out unnecessary columns -at launch point\n",
    "no_need = [\"Unnamed: 0\",\"url\", \"urlProfile\", \"url\", \"campaignTitle\", \"aggregatedPerkValue\",\"creator\", \"location\",\"totalNumberBackers\", \"numComments\",\"numUpdates\",\"totalPledge\",\"backed\",\"comments\",\"created\",\"joinKS\",\"urlCreator\",\"websites\",\"countryState\",\"city\",\"projectsWeLove\",\"continent\",\"valuta\",\"lowestPerkPriceOriginal\",\"noFacebookFriends\",\"pastSuccessRate\",\"numAdditionalVideos\",\"viewGallery\",\"addedPerks\",\"endDate\",\"startDate\",\"experience\",\"percentageGoal\",\"numLiveCampaigns\",\"averageBackersRequired\",\"canceled\",\"highestPerk\",\"lowestPerk\",\"overPaying\",\"shippingWorld\",\"numCompetitors\"]\n",
    "kickstarter = kickstarter_data.copy() #kickstarter_data remains the same\n",
    "kickstarter.drop(no_need, axis=1, inplace=True)\n",
    "#Change the order of kick_copy's columns\n",
    "kickstarter = kickstarter[[\"mainCategory\",\"category\",\"goal\",\"duration\",\"numPerks\",\"medianPerk\",\"estimatedDelivery\",\"mainVideo\",\"numSuccessfulCampaigns\",\"facebookFriends\",\"numCollaborators\",\"totWordCount\",\"numImages\", \"success\"]]\n",
    "kickstarter.head(5)"
   ]
  },
  {
   "cell_type": "code",
   "execution_count": 7,
   "metadata": {
    "collapsed": true
   },
   "outputs": [],
   "source": [
    "kc_film_video = kickstarter[kickstarter[\"mainCategory\"]==\"Film & Video\"].copy()"
   ]
  },
  {
   "cell_type": "code",
   "execution_count": 8,
   "metadata": {
    "collapsed": false
   },
   "outputs": [
    {
     "data": {
      "text/html": [
       "<div>\n",
       "<table border=\"1\" class=\"dataframe\">\n",
       "  <thead>\n",
       "    <tr style=\"text-align: right;\">\n",
       "      <th></th>\n",
       "      <th>mainCategory</th>\n",
       "      <th>category</th>\n",
       "      <th>goal</th>\n",
       "      <th>duration</th>\n",
       "      <th>numPerks</th>\n",
       "      <th>medianPerk</th>\n",
       "      <th>estimatedDelivery</th>\n",
       "      <th>mainVideo</th>\n",
       "      <th>numSuccessfulCampaigns</th>\n",
       "      <th>facebookFriends</th>\n",
       "      <th>numCollaborators</th>\n",
       "      <th>totWordCount</th>\n",
       "      <th>numImages</th>\n",
       "      <th>success</th>\n",
       "    </tr>\n",
       "  </thead>\n",
       "  <tbody>\n",
       "    <tr>\n",
       "      <th>0</th>\n",
       "      <td>Film &amp; Video</td>\n",
       "      <td>Webseries</td>\n",
       "      <td>58367.10</td>\n",
       "      <td>29.958333</td>\n",
       "      <td>4</td>\n",
       "      <td>79.5</td>\n",
       "      <td>229.177083</td>\n",
       "      <td>1</td>\n",
       "      <td>0</td>\n",
       "      <td>737.0</td>\n",
       "      <td>0</td>\n",
       "      <td>253</td>\n",
       "      <td>0</td>\n",
       "      <td>0</td>\n",
       "    </tr>\n",
       "    <tr>\n",
       "      <th>1</th>\n",
       "      <td>Film &amp; Video</td>\n",
       "      <td>Documentary</td>\n",
       "      <td>6994.52</td>\n",
       "      <td>59.958333</td>\n",
       "      <td>11</td>\n",
       "      <td>39.0</td>\n",
       "      <td>254.523232</td>\n",
       "      <td>1</td>\n",
       "      <td>1</td>\n",
       "      <td>2480.0</td>\n",
       "      <td>0</td>\n",
       "      <td>1165</td>\n",
       "      <td>7</td>\n",
       "      <td>1</td>\n",
       "    </tr>\n",
       "    <tr>\n",
       "      <th>6</th>\n",
       "      <td>Film &amp; Video</td>\n",
       "      <td>Documentary</td>\n",
       "      <td>3500.00</td>\n",
       "      <td>21.628322</td>\n",
       "      <td>9</td>\n",
       "      <td>300.0</td>\n",
       "      <td>135.277778</td>\n",
       "      <td>1</td>\n",
       "      <td>1</td>\n",
       "      <td>702.0</td>\n",
       "      <td>0</td>\n",
       "      <td>897</td>\n",
       "      <td>0</td>\n",
       "      <td>1</td>\n",
       "    </tr>\n",
       "    <tr>\n",
       "      <th>21</th>\n",
       "      <td>Film &amp; Video</td>\n",
       "      <td>Animation</td>\n",
       "      <td>3497.26</td>\n",
       "      <td>29.958333</td>\n",
       "      <td>14</td>\n",
       "      <td>52.0</td>\n",
       "      <td>26.611409</td>\n",
       "      <td>0</td>\n",
       "      <td>1</td>\n",
       "      <td>751.0</td>\n",
       "      <td>1</td>\n",
       "      <td>2116</td>\n",
       "      <td>32</td>\n",
       "      <td>1</td>\n",
       "    </tr>\n",
       "    <tr>\n",
       "      <th>23</th>\n",
       "      <td>Film &amp; Video</td>\n",
       "      <td>Documentary</td>\n",
       "      <td>80000.00</td>\n",
       "      <td>30.000000</td>\n",
       "      <td>18</td>\n",
       "      <td>165.0</td>\n",
       "      <td>106.156944</td>\n",
       "      <td>1</td>\n",
       "      <td>0</td>\n",
       "      <td>945.0</td>\n",
       "      <td>0</td>\n",
       "      <td>2580</td>\n",
       "      <td>47</td>\n",
       "      <td>0</td>\n",
       "    </tr>\n",
       "    <tr>\n",
       "      <th>26</th>\n",
       "      <td>Film &amp; Video</td>\n",
       "      <td>Comedy</td>\n",
       "      <td>10000.00</td>\n",
       "      <td>30.000000</td>\n",
       "      <td>9</td>\n",
       "      <td>250.0</td>\n",
       "      <td>72.252083</td>\n",
       "      <td>1</td>\n",
       "      <td>0</td>\n",
       "      <td>789.0</td>\n",
       "      <td>0</td>\n",
       "      <td>1253</td>\n",
       "      <td>13</td>\n",
       "      <td>0</td>\n",
       "    </tr>\n",
       "    <tr>\n",
       "      <th>27</th>\n",
       "      <td>Film &amp; Video</td>\n",
       "      <td>Film &amp; Video</td>\n",
       "      <td>62530.00</td>\n",
       "      <td>33.825463</td>\n",
       "      <td>4</td>\n",
       "      <td>403.5</td>\n",
       "      <td>-2.129861</td>\n",
       "      <td>1</td>\n",
       "      <td>0</td>\n",
       "      <td>574.5</td>\n",
       "      <td>0</td>\n",
       "      <td>401</td>\n",
       "      <td>0</td>\n",
       "      <td>0</td>\n",
       "    </tr>\n",
       "    <tr>\n",
       "      <th>32</th>\n",
       "      <td>Film &amp; Video</td>\n",
       "      <td>Film &amp; Video</td>\n",
       "      <td>15007.20</td>\n",
       "      <td>29.958333</td>\n",
       "      <td>4</td>\n",
       "      <td>65.5</td>\n",
       "      <td>105.786111</td>\n",
       "      <td>1</td>\n",
       "      <td>0</td>\n",
       "      <td>574.5</td>\n",
       "      <td>0</td>\n",
       "      <td>547</td>\n",
       "      <td>0</td>\n",
       "      <td>0</td>\n",
       "    </tr>\n",
       "    <tr>\n",
       "      <th>45</th>\n",
       "      <td>Film &amp; Video</td>\n",
       "      <td>Documentary</td>\n",
       "      <td>8000.00</td>\n",
       "      <td>44.958333</td>\n",
       "      <td>5</td>\n",
       "      <td>85.0</td>\n",
       "      <td>251.513889</td>\n",
       "      <td>0</td>\n",
       "      <td>1</td>\n",
       "      <td>574.5</td>\n",
       "      <td>0</td>\n",
       "      <td>721</td>\n",
       "      <td>0</td>\n",
       "      <td>1</td>\n",
       "    </tr>\n",
       "    <tr>\n",
       "      <th>48</th>\n",
       "      <td>Film &amp; Video</td>\n",
       "      <td>Drama</td>\n",
       "      <td>553.12</td>\n",
       "      <td>30.000000</td>\n",
       "      <td>9</td>\n",
       "      <td>23.0</td>\n",
       "      <td>163.624769</td>\n",
       "      <td>1</td>\n",
       "      <td>3</td>\n",
       "      <td>966.0</td>\n",
       "      <td>0</td>\n",
       "      <td>573</td>\n",
       "      <td>0</td>\n",
       "      <td>1</td>\n",
       "    </tr>\n",
       "  </tbody>\n",
       "</table>\n",
       "</div>"
      ],
      "text/plain": [
       "    mainCategory      category      goal   duration  numPerks  medianPerk  \\\n",
       "0   Film & Video     Webseries  58367.10  29.958333         4        79.5   \n",
       "1   Film & Video   Documentary   6994.52  59.958333        11        39.0   \n",
       "6   Film & Video   Documentary   3500.00  21.628322         9       300.0   \n",
       "21  Film & Video     Animation   3497.26  29.958333        14        52.0   \n",
       "23  Film & Video   Documentary  80000.00  30.000000        18       165.0   \n",
       "26  Film & Video        Comedy  10000.00  30.000000         9       250.0   \n",
       "27  Film & Video  Film & Video  62530.00  33.825463         4       403.5   \n",
       "32  Film & Video  Film & Video  15007.20  29.958333         4        65.5   \n",
       "45  Film & Video   Documentary   8000.00  44.958333         5        85.0   \n",
       "48  Film & Video         Drama    553.12  30.000000         9        23.0   \n",
       "\n",
       "    estimatedDelivery  mainVideo  numSuccessfulCampaigns  facebookFriends  \\\n",
       "0          229.177083          1                       0            737.0   \n",
       "1          254.523232          1                       1           2480.0   \n",
       "6          135.277778          1                       1            702.0   \n",
       "21          26.611409          0                       1            751.0   \n",
       "23         106.156944          1                       0            945.0   \n",
       "26          72.252083          1                       0            789.0   \n",
       "27          -2.129861          1                       0            574.5   \n",
       "32         105.786111          1                       0            574.5   \n",
       "45         251.513889          0                       1            574.5   \n",
       "48         163.624769          1                       3            966.0   \n",
       "\n",
       "    numCollaborators  totWordCount  numImages  success  \n",
       "0                  0           253          0        0  \n",
       "1                  0          1165          7        1  \n",
       "6                  0           897          0        1  \n",
       "21                 1          2116         32        1  \n",
       "23                 0          2580         47        0  \n",
       "26                 0          1253         13        0  \n",
       "27                 0           401          0        0  \n",
       "32                 0           547          0        0  \n",
       "45                 0           721          0        1  \n",
       "48                 0           573          0        1  "
      ]
     },
     "execution_count": 8,
     "metadata": {},
     "output_type": "execute_result"
    }
   ],
   "source": [
    "kc_film_video.head(10)"
   ]
  },
  {
   "cell_type": "code",
   "execution_count": 19,
   "metadata": {
    "collapsed": false
   },
   "outputs": [],
   "source": [
    "#kc_film_video_s: success datasets\n",
    "kc_film_video_s = kc_film_video[kc_film_video[\"success\"]==1].copy()"
   ]
  },
  {
   "cell_type": "code",
   "execution_count": 44,
   "metadata": {
    "collapsed": false
   },
   "outputs": [
    {
     "name": "stdout",
     "output_type": "stream",
     "text": [
      "64908.05999999982\n"
     ]
    }
   ],
   "source": [
    "#find outliers\n",
    "#no_outliers = kc_film_video_s[np.abs(kc_film_video_s[\"goal\"].mean()) <= (3*kc_film_video_s[\"goal\"].std())]\n",
    "q = kc_film_video_s[\"goal\"].quantile(0.98)\n",
    "print(q)\n",
    "#df=pd.DataFrame({'Data':np.random.normal(size=200)})  #example dataset of normally distributed data. \n",
    "#df[np.abs(df.Data-df.Data.mean())<=(3*df.Data.std())] #keep only the ones that are within +3 to -3 standard deviations in the column 'Data'.\n",
    "#df[~(np.abs(df.Data-df.Data.mean())>(3*df.Data.std()))] #or if you prefer the other way around"
   ]
  },
  {
   "cell_type": "code",
   "execution_count": 57,
   "metadata": {
    "collapsed": true
   },
   "outputs": [],
   "source": [
    "no_outlier_goal = kc_film_video_s[kc_film_video_s[\"goal\"] <np.percentile(kc_film_video_s[\"goal\"],98)]\n",
    "no_outlier_duration = kc_film_video_s[kc_film_video_s[\"duration\"] < np.percentile(kc_film_video_s[\"duration\"], 98)]\n",
    "no_outlier_numPerks = kc_film_video_s[kc_film_video_s[\"numPerks\"] < np.percentile(kc_film_video_s[\"numPerks\"], 98)]\n",
    "no_outlier_medianPerk = kc_film_video_s[kc_film_video_s[\"medianPerk\"] <np.percentile(kc_film_video_s[\"medianPerk\"],98)]\n",
    "no_outlier_estimatedDelivery = kc_film_video_s[kc_film_video_s[\"estimatedDelivery\"] < np.percentile(kc_film_video_s[\"estimatedDelivery\"], 98)]\n",
    "no_outlier_totWordCount = kc_film_video_s[kc_film_video_s[\"totWordCount\"] < np.percentile(kc_film_video_s[\"totWordCount\"], 98)]\n"
   ]
  },
  {
   "cell_type": "code",
   "execution_count": 58,
   "metadata": {
    "collapsed": false
   },
   "outputs": [],
   "source": [
    "goal_mean = no_outlier_goal[\"goal\"].mean()\n",
    "duration_mean = no_outlier_duration[\"duration\"].mean()\n",
    "numPerks_mean = no_outlier_numPerks[\"numPerks\"].mean()\n",
    "medianPerk_mean = no_outlier_medianPerk[\"medianPerk\"].mean()\n",
    "estimated_Delivery_mean = no_outlier_estimatedDelivery[\"estimatedDelivery\"].mean() \n",
    "totWordCount_mean = no_outlier_totWordCount[\"totWordCount\"].mean() \n",
    "\n"
   ]
  },
  {
   "cell_type": "code",
   "execution_count": 59,
   "metadata": {
    "collapsed": false
   },
   "outputs": [
    {
     "name": "stdout",
     "output_type": "stream",
     "text": [
      "7477.06605882353\n",
      "30.858895188165704\n",
      "9.064705882352941\n",
      "74.15014880952381\n",
      "104.06518293294839\n",
      "813.8117647058823\n"
     ]
    }
   ],
   "source": [
    "print(goal_mean)\n",
    "print(duration_mean)\n",
    "print(numPerks_mean)\n",
    "print(medianPerk_mean)\n",
    "print(estimated_Delivery_mean)\n",
    "print(totWordCount_mean)\n"
   ]
  },
  {
   "cell_type": "code",
   "execution_count": 62,
   "metadata": {
    "collapsed": false
   },
   "outputs": [
    {
     "data": {
      "text/plain": [
       "mainCategory              137\n",
       "category                  137\n",
       "goal                      137\n",
       "duration                  137\n",
       "numPerks                  137\n",
       "medianPerk                137\n",
       "estimatedDelivery         137\n",
       "mainVideo                 137\n",
       "numSuccessfulCampaigns    137\n",
       "facebookFriends           137\n",
       "numCollaborators          137\n",
       "totWordCount              137\n",
       "numImages                 137\n",
       "success                   137\n",
       "dtype: int64"
      ]
     },
     "execution_count": 62,
     "metadata": {},
     "output_type": "execute_result"
    }
   ],
   "source": [
    "#Video Count: How many successful ones have video?\n",
    "video_count = kc_film_video_s[kc_film_video_s[\"mainVideo\"]==1].count() #137"
   ]
  },
  {
   "cell_type": "code",
   "execution_count": 23,
   "metadata": {
    "collapsed": true
   },
   "outputs": [],
   "source": [
    "import matplotlib.pyplot as plt"
   ]
  },
  {
   "cell_type": "code",
   "execution_count": 37,
   "metadata": {
    "collapsed": false
   },
   "outputs": [],
   "source": [
    "#Remove outliers\n",
    "kcfv_no_out = kc_film_video_s[(kc_film_video_s[\"goal\"]<=25000) & (kc_film_video_s[\"goal\"] >= 150)].copy()"
   ]
  },
  {
   "cell_type": "code",
   "execution_count": 39,
   "metadata": {
    "collapsed": false
   },
   "outputs": [
    {
     "data": {
      "image/png": "[encoded data removed]",
      "text/plain": [
       "<matplotlib.figure.Figure at 0x1fa01141b38>"
      ]
     },
     "metadata": {},
     "output_type": "display_data"
    }
   ],
   "source": [
    "plt.hist(kcfv_no_out[\"goal\"], bins=20);\n",
    "plt.hist(kcfv_no_out[\"goal\"])"
   ]
  },
  {
   "cell_type": "code",
   "execution_count": null,
   "metadata": {
    "collapsed": true
   },
   "outputs": [],
   "source": [
    "kc_film_video_s[\"goal\"].mean()"
   ]
  }
 ],
 "metadata": {
  "kernelspec": {
   "display_name": "Python 3",
   "language": "python",
   "name": "python3"
  },
  "language_info": {
   "codemirror_mode": {
    "name": "ipython",
    "version": 3
   },
   "file_extension": ".py",
   "mimetype": "text/x-python",
   "name": "python",
   "nbconvert_exporter": "python",
   "pygments_lexer": "ipython3",
   "version": "3.6.0"
  }
 },
 "nbformat": 4,
 "nbformat_minor": 2
}
